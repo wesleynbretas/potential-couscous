{
 "cells": [
  {
   "cell_type": "code",
   "execution_count": 22,
   "id": "18c3ba08-4611-49b9-a1f1-a2fd187de6ec",
   "metadata": {},
   "outputs": [],
   "source": [
    "from prefect import flow"
   ]
  },
  {
   "cell_type": "code",
   "execution_count": 23,
   "id": "60ba1e22-5575-43d3-b48c-f468ef26c912",
   "metadata": {},
   "outputs": [],
   "source": [
    "from tasks import (\n",
    "    download_data,\n",
    "    parse_data,\n",
    "    save_report,\n",
    ")"
   ]
  },
  {
   "cell_type": "code",
   "execution_count": 25,
   "id": "9349385a-e2de-49d1-8049-4fe4b051d726",
   "metadata": {},
   "outputs": [],
   "source": [
    "@flow(name=\"process_data\")\n",
    "def process_data(n_users):\n",
    "    # Tasks\n",
    "    data = download_data(n_users)\n",
    "    dataframe = parse_data(data)\n",
    "    save_report(dataframe)"
   ]
  }
 ],
 "metadata": {
  "kernelspec": {
   "display_name": "Python 3 (ipykernel)",
   "language": "python",
   "name": "python3"
  },
  "language_info": {
   "codemirror_mode": {
    "name": "ipython",
    "version": 3
   },
   "file_extension": ".py",
   "mimetype": "text/x-python",
   "name": "python",
   "nbconvert_exporter": "python",
   "pygments_lexer": "ipython3",
   "version": "3.10.12"
  }
 },
 "nbformat": 4,
 "nbformat_minor": 5
}
