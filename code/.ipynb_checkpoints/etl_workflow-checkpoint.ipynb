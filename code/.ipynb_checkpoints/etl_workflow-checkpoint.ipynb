{
 "cells": [
  {
   "cell_type": "code",
   "execution_count": 18,
   "id": "ff311964-eb9a-4b70-a56e-57989dfb3985",
   "metadata": {},
   "outputs": [],
   "source": [
    "from prefect import task, flow\n",
    "from etl import extract_data, transform_data, load_data"
   ]
  },
  {
   "cell_type": "code",
   "execution_count": 19,
   "id": "04a6e8ad-4251-4f5d-b178-c636a85d2a5e",
   "metadata": {},
   "outputs": [
    {
     "name": "stderr",
     "output_type": "stream",
     "text": [
      "/home/wesley/Documentos/workspace/projects/prefect_project/venv/lib/python3.10/site-packages/prefect/tasks.py:348: UserWarning: A task named 'extract_data_task' and defined at '/tmp/ipykernel_158984/1817801311.py:1' conflicts with another task. Consider specifying a unique `name` parameter in the task definition:\n",
      "\n",
      " `@task(name='my_unique_name', ...)`\n",
      "  warnings.warn(\n"
     ]
    }
   ],
   "source": [
    "@task(name=\"extract_data_task\")\n",
    "def extract_data_task():\n",
    "    return extract_data()"
   ]
  },
  {
   "cell_type": "code",
   "execution_count": 24,
   "id": "9daf1e01-b201-466d-b48e-56765281c7a5",
   "metadata": {},
   "outputs": [
    {
     "name": "stderr",
     "output_type": "stream",
     "text": [
      "/home/wesley/Documentos/workspace/projects/prefect_project/venv/lib/python3.10/site-packages/prefect/tasks.py:348: UserWarning: A task named 'transform_data_task' and defined at '/tmp/ipykernel_158984/3120519374.py:1' conflicts with another task. Consider specifying a unique `name` parameter in the task definition:\n",
      "\n",
      " `@task(name='my_unique_name', ...)`\n",
      "  warnings.warn(\n"
     ]
    }
   ],
   "source": [
    "@task(name=\"transform_data_task\")\n",
    "def transform_data_task(data):\n",
    "    return transform_data(data)"
   ]
  },
  {
   "cell_type": "code",
   "execution_count": 25,
   "id": "627ffe49-87bb-4d18-8c57-17d7b6ed11bd",
   "metadata": {},
   "outputs": [
    {
     "name": "stderr",
     "output_type": "stream",
     "text": [
      "/home/wesley/Documentos/workspace/projects/prefect_project/venv/lib/python3.10/site-packages/prefect/tasks.py:348: UserWarning: A task named 'load_data_task' and defined at '/tmp/ipykernel_158984/2212253957.py:1' conflicts with another task. Consider specifying a unique `name` parameter in the task definition:\n",
      "\n",
      " `@task(name='my_unique_name', ...)`\n",
      "  warnings.warn(\n"
     ]
    }
   ],
   "source": [
    "@task(name=\"load_data_task\")\n",
    "def load_data_task(transformed_data):\n",
    "    return load_data(transformed_data)"
   ]
  },
  {
   "cell_type": "code",
   "execution_count": 26,
   "id": "55d2a884-8af1-4d48-8bd0-a8a7f33ee341",
   "metadata": {},
   "outputs": [
    {
     "name": "stderr",
     "output_type": "stream",
     "text": [
      "/home/wesley/Documentos/workspace/projects/prefect_project/venv/lib/python3.10/site-packages/prefect/flows.py:357: UserWarning: A flow named 'etl-workflow' and defined at '/tmp/ipykernel_158984/2569170945.py:1' conflicts with another flow. Consider specifying a unique `name` parameter in the flow definition:\n",
      "\n",
      " `@flow(name='my_unique_name', ...)`\n",
      "  warnings.warn(\n"
     ]
    }
   ],
   "source": [
    "@flow(name=\"etl_workflow\")\n",
    "def etl_workflow():\n",
    "    extracted_data = extract_data_task()\n",
    "    transformed_data = transform_data_task(extracted_data)\n",
    "    load_data_task(transformed_data)"
   ]
  },
  {
   "cell_type": "code",
   "execution_count": 27,
   "id": "639f55c1-0b6e-4af8-b7a1-1ba095116d7c",
   "metadata": {},
   "outputs": [
    {
     "name": "stderr",
     "output_type": "stream",
     "text": [
      "15:42:50.332 | \u001b[36mINFO\u001b[0m    | prefect.engine - Created flow run\u001b[35m 'armored-chupacabra'\u001b[0m for flow\u001b[1;35m 'etl-workflow'\u001b[0m\n",
      "15:42:50.488 | \u001b[36mINFO\u001b[0m    | Flow run\u001b[35m 'armored-chupacabra'\u001b[0m - Created task run 'extract_data_task-0' for task 'extract_data_task'\n",
      "15:42:50.491 | \u001b[36mINFO\u001b[0m    | Flow run\u001b[35m 'armored-chupacabra'\u001b[0m - Executing 'extract_data_task-0' immediately...\n",
      "15:42:50.655 | \u001b[36mINFO\u001b[0m    | Task run 'extract_data_task-0' - Finished in state \u001b[32mCompleted\u001b[0m()\n",
      "15:42:50.721 | \u001b[36mINFO\u001b[0m    | Flow run\u001b[35m 'armored-chupacabra'\u001b[0m - Created task run 'transform_data_task-0' for task 'transform_data_task'\n",
      "15:42:50.724 | \u001b[36mINFO\u001b[0m    | Flow run\u001b[35m 'armored-chupacabra'\u001b[0m - Executing 'transform_data_task-0' immediately...\n",
      "15:42:50.881 | \u001b[36mINFO\u001b[0m    | Task run 'transform_data_task-0' - Finished in state \u001b[32mCompleted\u001b[0m()\n",
      "15:42:50.937 | \u001b[36mINFO\u001b[0m    | Flow run\u001b[35m 'armored-chupacabra'\u001b[0m - Created task run 'load_data_task-0' for task 'load_data_task'\n",
      "15:42:50.940 | \u001b[36mINFO\u001b[0m    | Flow run\u001b[35m 'armored-chupacabra'\u001b[0m - Executing 'load_data_task-0' immediately...\n",
      "15:42:51.128 | \u001b[36mINFO\u001b[0m    | Task run 'load_data_task-0' - Finished in state \u001b[32mCompleted\u001b[0m()\n",
      "15:42:51.194 | \u001b[36mINFO\u001b[0m    | Flow run\u001b[35m 'armored-chupacabra'\u001b[0m - Finished in state \u001b[32mCompleted\u001b[0m('All states completed.')\n"
     ]
    }
   ],
   "source": [
    "if __name__ == \"__main__\":\n",
    "    etl_workflow()"
   ]
  },
  {
   "cell_type": "code",
   "execution_count": null,
   "id": "e4f31015-73ad-4bc1-a098-6e0c9199b555",
   "metadata": {},
   "outputs": [],
   "source": []
  }
 ],
 "metadata": {
  "kernelspec": {
   "display_name": "Python 3 (ipykernel)",
   "language": "python",
   "name": "python3"
  },
  "language_info": {
   "codemirror_mode": {
    "name": "ipython",
    "version": 3
   },
   "file_extension": ".py",
   "mimetype": "text/x-python",
   "name": "python",
   "nbconvert_exporter": "python",
   "pygments_lexer": "ipython3",
   "version": "3.10.12"
  }
 },
 "nbformat": 4,
 "nbformat_minor": 5
}
