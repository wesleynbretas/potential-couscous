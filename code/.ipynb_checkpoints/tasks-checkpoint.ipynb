{
 "cells": [
  {
   "cell_type": "code",
   "execution_count": 29,
   "id": "5e66d8e3-364d-411b-bd15-a47116d45bcc",
   "metadata": {},
   "outputs": [],
   "source": [
    "from io import StringIO\n",
    "\n",
    "import pandas as pd\n",
    "from prefect import task, get_run_logger\n",
    "import requests\n",
    "\n",
    "#from utils import log"
   ]
  },
  {
   "cell_type": "code",
   "execution_count": 30,
   "id": "6b593407-6b8f-440d-a8d8-74fc88bc46e8",
   "metadata": {},
   "outputs": [
    {
     "name": "stderr",
     "output_type": "stream",
     "text": [
      "/home/wesley/Documentos/workspace/projects/prefect_project/venv/lib/python3.10/site-packages/prefect/tasks.py:348: UserWarning: A task named 'download_data' and defined at '/tmp/ipykernel_46803/3353035426.py:1' conflicts with another task. Consider specifying a unique `name` parameter in the task definition:\n",
      "\n",
      " `@task(name='my_unique_name', ...)`\n",
      "  warnings.warn(\n"
     ]
    }
   ],
   "source": [
    "@task(name=\"download_data\")\n",
    "def download_data(n_users: int) -> str:\n",
    "    \"\"\"\n",
    "    Baixa dados da API https://randomuser.me e retorna um texto em formato CSV.\n",
    "\n",
    "    Args:\n",
    "        n_users (int): número de usuários a serem baixados.\n",
    "\n",
    "    Returns:\n",
    "        str: texto em formato CSV.\n",
    "    \"\"\"\n",
    "    response = requests.get(\n",
    "        \"https://randomuser.me/api/?results={}&format=csv\".format(n_users)\n",
    "    )\n",
    "    \n",
    "    #logger = get_run_logger()\n",
    "    #logger.info(\"Dados baixados com sucesso!\")\n",
    "    return response.text"
   ]
  },
  {
   "cell_type": "code",
   "execution_count": 31,
   "id": "f9e4a99b-3051-4478-82ab-13f91593d001",
   "metadata": {},
   "outputs": [
    {
     "name": "stderr",
     "output_type": "stream",
     "text": [
      "/home/wesley/Documentos/workspace/projects/prefect_project/venv/lib/python3.10/site-packages/prefect/tasks.py:348: UserWarning: A task named 'parse_data' and defined at '/tmp/ipykernel_46803/4115621332.py:1' conflicts with another task. Consider specifying a unique `name` parameter in the task definition:\n",
      "\n",
      " `@task(name='my_unique_name', ...)`\n",
      "  warnings.warn(\n"
     ]
    }
   ],
   "source": [
    "@task(name=\"parse_data\")\n",
    "def parse_data(data: str) -> pd.DataFrame:\n",
    "    \"\"\"\n",
    "    Transforma os dados em formato CSV em um DataFrame do Pandas, para facilitar sua manipulação.\n",
    "\n",
    "    Args:\n",
    "        data (str): texto em formato CSV.\n",
    "\n",
    "    Returns:\n",
    "        pd.DataFrame: DataFrame do Pandas.\n",
    "    \"\"\"\n",
    "    df = pd.read_csv(StringIO(data))\n",
    "\n",
    "    #logger = get_run_logger()    \n",
    "    #logger.info(\"Dados convertidos em Dataframe com sucesso!\")    \n",
    "    \n",
    "    return df"
   ]
  },
  {
   "cell_type": "code",
   "execution_count": 33,
   "id": "3649f720-d51d-48bf-835a-20995fcc4704",
   "metadata": {},
   "outputs": [
    {
     "name": "stderr",
     "output_type": "stream",
     "text": [
      "/home/wesley/Documentos/workspace/projects/prefect_project/venv/lib/python3.10/site-packages/prefect/tasks.py:348: UserWarning: A task named 'save_report' and defined at '/tmp/ipykernel_46803/630246770.py:1' conflicts with another task. Consider specifying a unique `name` parameter in the task definition:\n",
      "\n",
      " `@task(name='my_unique_name', ...)`\n",
      "  warnings.warn(\n"
     ]
    }
   ],
   "source": [
    "@task(name=\"save_report\")\n",
    "def save_report(dataframe: pd.DataFrame) -> None:\n",
    "    \"\"\"\n",
    "    Salva o DataFrame em um arquivo CSV.\n",
    "\n",
    "    Args:\n",
    "        dataframe (pd.DataFrame): DataFrame do Pandas.\n",
    "    \"\"\"\n",
    "    dataframe.to_csv(\"report.csv\", index=False)\n",
    "    \n",
    "    # logger = get_run_logger()\n",
    "    # logger.info(\"Dados salvos em report.csv com sucesso!\")"
   ]
  }
 ],
 "metadata": {
  "kernelspec": {
   "display_name": "Python 3 (ipykernel)",
   "language": "python",
   "name": "python3"
  },
  "language_info": {
   "codemirror_mode": {
    "name": "ipython",
    "version": 3
   },
   "file_extension": ".py",
   "mimetype": "text/x-python",
   "name": "python",
   "nbconvert_exporter": "python",
   "pygments_lexer": "ipython3",
   "version": "3.10.12"
  }
 },
 "nbformat": 4,
 "nbformat_minor": 5
}
