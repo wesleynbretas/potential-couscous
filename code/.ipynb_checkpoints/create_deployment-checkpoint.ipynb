{
 "cells": [
  {
   "cell_type": "code",
   "execution_count": 1,
   "id": "de154cc9-e85a-4e74-904c-c48f34fdff63",
   "metadata": {},
   "outputs": [],
   "source": [
    "from prefect import flow"
   ]
  },
  {
   "cell_type": "code",
   "execution_count": null,
   "id": "bb3b8192-3a98-40bb-b677-52db76812a20",
   "metadata": {},
   "outputs": [],
   "source": [
    "if __name__ == \"__main__\":\n",
    "    flow.from_source(\n",
    "            source=\"https://github.com/wesleynbretas/potential-couscous.git\",\n",
    "            entrypoint=\"etl_workflow.py\",\n",
    "        ).deploy(\n",
    "            name=\"my-first-deployment\",\n",
    "            work_pool_name=\"my-managed-pool\",\n",
    "            cron=\"0 1 * * *\"\n",
    "        )\n",
    "    )"
   ]
  }
 ],
 "metadata": {
  "kernelspec": {
   "display_name": "Python 3 (ipykernel)",
   "language": "python",
   "name": "python3"
  },
  "language_info": {
   "codemirror_mode": {
    "name": "ipython",
    "version": 3
   },
   "file_extension": ".py",
   "mimetype": "text/x-python",
   "name": "python",
   "nbconvert_exporter": "python",
   "pygments_lexer": "ipython3",
   "version": "3.10.12"
  }
 },
 "nbformat": 4,
 "nbformat_minor": 5
}
