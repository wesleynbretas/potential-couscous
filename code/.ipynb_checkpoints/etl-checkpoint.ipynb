{
 "cells": [
  {
   "cell_type": "code",
   "execution_count": 39,
   "id": "171a765d-95c3-43f8-9fec-854f882e02fb",
   "metadata": {},
   "outputs": [],
   "source": [
    "import pandas as pd\n",
    "from os import path"
   ]
  },
  {
   "cell_type": "code",
   "execution_count": 40,
   "id": "23bcdbca-18bc-4fc1-be08-47c2cd1ee7ea",
   "metadata": {},
   "outputs": [],
   "source": [
    "def extract_data():\n",
    "    # read CSV file into DataFrame\n",
    "    csv_path = path.join(\"data\", \"csv\", \"username.csv\")\n",
    "    \n",
    "    data = pd.read_csv(csv_path, sep=\";\")\n",
    "\n",
    "    return data"
   ]
  },
  {
   "cell_type": "code",
   "execution_count": 41,
   "id": "ac80b1e5-6784-49aa-b312-838b2899083e",
   "metadata": {},
   "outputs": [],
   "source": [
    "def transform_data(data):\n",
    "    data.rename(columns={\"Username\" : \"username\", \n",
    "                         \"Identifier\" : \"identifier\", \n",
    "                         \"First name\" : \"first_name\", \n",
    "                         \"Last name\" : \"last_name\"}, inplace=True)\n",
    "\n",
    "    return data"
   ]
  },
  {
   "cell_type": "code",
   "execution_count": 42,
   "id": "11c521eb-9a1a-4889-a719-d8f000dfa855",
   "metadata": {},
   "outputs": [],
   "source": [
    "def load_data(data):\n",
    "    csv_path = path.join(\"data\", \"csv\", \"username_data.csv\")\n",
    "    \n",
    "    data.to_csv(csv_path, index=False)"
   ]
  }
 ],
 "metadata": {
  "kernelspec": {
   "display_name": "Python 3 (ipykernel)",
   "language": "python",
   "name": "python3"
  },
  "language_info": {
   "codemirror_mode": {
    "name": "ipython",
    "version": 3
   },
   "file_extension": ".py",
   "mimetype": "text/x-python",
   "name": "python",
   "nbconvert_exporter": "python",
   "pygments_lexer": "ipython3",
   "version": "3.10.12"
  }
 },
 "nbformat": 4,
 "nbformat_minor": 5
}
