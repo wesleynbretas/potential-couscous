{
 "cells": [
  {
   "cell_type": "code",
   "execution_count": 1,
   "id": "932ed2af-0743-4f53-9eb4-9e57c50876ea",
   "metadata": {},
   "outputs": [],
   "source": [
    "import prefect"
   ]
  },
  {
   "cell_type": "code",
   "execution_count": 2,
   "id": "c8c06755-8cbb-4faf-809a-555b41a73766",
   "metadata": {},
   "outputs": [],
   "source": [
    "def log(msg):\n",
    "    prefect.context.logger.info(f\"\\n{msg}\")"
   ]
  }
 ],
 "metadata": {
  "kernelspec": {
   "display_name": "Python 3 (ipykernel)",
   "language": "python",
   "name": "python3"
  },
  "language_info": {
   "codemirror_mode": {
    "name": "ipython",
    "version": 3
   },
   "file_extension": ".py",
   "mimetype": "text/x-python",
   "name": "python",
   "nbconvert_exporter": "python",
   "pygments_lexer": "ipython3",
   "version": "3.10.12"
  }
 },
 "nbformat": 4,
 "nbformat_minor": 5
}
