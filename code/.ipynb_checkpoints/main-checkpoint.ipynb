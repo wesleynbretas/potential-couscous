{
 "cells": [
  {
   "cell_type": "code",
   "execution_count": 6,
   "id": "e8b50e5e-33ae-4e4d-a4df-f86806285d38",
   "metadata": {},
   "outputs": [],
   "source": [
    "from flows import process_data"
   ]
  },
  {
   "cell_type": "code",
   "execution_count": 7,
   "id": "3c9d428e-84ad-4520-bca7-7799bd4eb8c8",
   "metadata": {},
   "outputs": [
    {
     "ename": "AttributeError",
     "evalue": "'Flow' object has no attribute 'run'",
     "output_type": "error",
     "traceback": [
      "\u001b[0;31m---------------------------------------------------------------------------\u001b[0m",
      "\u001b[0;31mAttributeError\u001b[0m                            Traceback (most recent call last)",
      "Cell \u001b[0;32mIn[7], line 1\u001b[0m\n\u001b[0;32m----> 1\u001b[0m \u001b[43mprocess_data\u001b[49m\u001b[38;5;241;43m.\u001b[39;49m\u001b[43mrun\u001b[49m()\n",
      "\u001b[0;31mAttributeError\u001b[0m: 'Flow' object has no attribute 'run'"
     ]
    }
   ],
   "source": [
    "process_data.run()"
   ]
  }
 ],
 "metadata": {
  "kernelspec": {
   "display_name": "Python 3 (ipykernel)",
   "language": "python",
   "name": "python3"
  },
  "language_info": {
   "codemirror_mode": {
    "name": "ipython",
    "version": 3
   },
   "file_extension": ".py",
   "mimetype": "text/x-python",
   "name": "python",
   "nbconvert_exporter": "python",
   "pygments_lexer": "ipython3",
   "version": "3.10.12"
  }
 },
 "nbformat": 4,
 "nbformat_minor": 5
}
