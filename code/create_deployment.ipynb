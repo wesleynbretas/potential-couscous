{
 "cells": [
  {
   "cell_type": "code",
   "execution_count": 7,
   "id": "de154cc9-e85a-4e74-904c-c48f34fdff63",
   "metadata": {},
   "outputs": [],
   "source": [
    "from prefect import flow"
   ]
  },
  {
   "cell_type": "code",
   "execution_count": 8,
   "id": "bb3b8192-3a98-40bb-b677-52db76812a20",
   "metadata": {},
   "outputs": [
    {
     "ename": "AttributeError",
     "evalue": "'coroutine' object has no attribute 'deploy'",
     "output_type": "error",
     "traceback": [
      "\u001b[0;31m---------------------------------------------------------------------------\u001b[0m",
      "\u001b[0;31mAttributeError\u001b[0m                            Traceback (most recent call last)",
      "\u001b[0;32m/tmp/ipykernel_76816/2652247380.py\u001b[0m in \u001b[0;36m<module>\u001b[0;34m\u001b[0m\n\u001b[1;32m      3\u001b[0m             \u001b[0msource\u001b[0m\u001b[0;34m=\u001b[0m\u001b[0;34m\"https://github.com/wesleynbretas/potential-couscous.git\"\u001b[0m\u001b[0;34m,\u001b[0m\u001b[0;34m\u001b[0m\u001b[0;34m\u001b[0m\u001b[0m\n\u001b[1;32m      4\u001b[0m             \u001b[0mentrypoint\u001b[0m\u001b[0;34m=\u001b[0m\u001b[0;34m\"etl_workflow.py:repo_info\"\u001b[0m\u001b[0;34m,\u001b[0m\u001b[0;34m\u001b[0m\u001b[0;34m\u001b[0m\u001b[0m\n\u001b[0;32m----> 5\u001b[0;31m         \u001b[0;34m)\u001b[0m\u001b[0;34m.\u001b[0m\u001b[0mdeploy\u001b[0m\u001b[0;34m(\u001b[0m\u001b[0;34m\u001b[0m\u001b[0;34m\u001b[0m\u001b[0m\n\u001b[0m\u001b[1;32m      6\u001b[0m             \u001b[0mname\u001b[0m\u001b[0;34m=\u001b[0m\u001b[0;34m\"my-first-deployment\"\u001b[0m\u001b[0;34m,\u001b[0m\u001b[0;34m\u001b[0m\u001b[0;34m\u001b[0m\u001b[0m\n\u001b[1;32m      7\u001b[0m             \u001b[0mwork_pool_name\u001b[0m\u001b[0;34m=\u001b[0m\u001b[0;34m\"my-managed-pool\"\u001b[0m\u001b[0;34m,\u001b[0m\u001b[0;34m\u001b[0m\u001b[0;34m\u001b[0m\u001b[0m\n",
      "\u001b[0;31mAttributeError\u001b[0m: 'coroutine' object has no attribute 'deploy'"
     ]
    }
   ],
   "source": [
    "if __name__ == \"__main__\":\n",
    "    flow.from_source(\n",
    "            source=\"https://github.com/wesleynbretas/potential-couscous.git\",\n",
    "            entrypoint=\"code/etl_workflow.py:etl_workflow\",\n",
    "        ).deploy(\n",
    "            name=\"my-first-deployment\",\n",
    "            work_pool_name=\"my-managed-pool\",\n",
    "            cron=\"0 1 * * *\",\n",
    "        )"
   ]
  }
 ],
 "metadata": {
  "kernelspec": {
   "display_name": "Python 3 (ipykernel)",
   "language": "python",
   "name": "python3"
  },
  "language_info": {
   "codemirror_mode": {
    "name": "ipython",
    "version": 3
   },
   "file_extension": ".py",
   "mimetype": "text/x-python",
   "name": "python",
   "nbconvert_exporter": "python",
   "pygments_lexer": "ipython3",
   "version": "3.10.12"
  }
 },
 "nbformat": 4,
 "nbformat_minor": 5
}
