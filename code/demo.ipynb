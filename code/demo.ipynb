{
 "cells": [
  {
   "cell_type": "code",
   "execution_count": 14,
   "id": "d41f9daf-0d44-416b-bde7-db8ace4f62c0",
   "metadata": {},
   "outputs": [],
   "source": [
    "import pandas as pd\n",
    "import pyarrow as pa\n",
    "import yfinance as yf\n",
    "from datetime import timedelta\n",
    "from prefect import flow, task"
   ]
  },
  {
   "cell_type": "code",
   "execution_count": 15,
   "id": "e5117d17-2bc4-41dd-acf3-fe7b351883bc",
   "metadata": {},
   "outputs": [
    {
     "name": "stderr",
     "output_type": "stream",
     "text": [
      "/home/wesley/.local/lib/python3.10/site-packages/prefect/tasks.py:356: UserWarning: A task named 'fetch_data' and defined at '/tmp/ipykernel_82288/4176811879.py:1' conflicts with another task. Consider specifying a unique `name` parameter in the task definition:\n",
      "\n",
      " `@task(name='my_unique_name', ...)`\n",
      "  warnings.warn(\n"
     ]
    }
   ],
   "source": [
    "@task(retries=3, cache_expiration=timedelta(30))\n",
    "def fetch_data(ticker):\n",
    "    return yf.download(ticker)"
   ]
  },
  {
   "cell_type": "code",
   "execution_count": 16,
   "id": "57c87b39-6aa2-4681-9247-1c2b8afe1e17",
   "metadata": {},
   "outputs": [
    {
     "name": "stderr",
     "output_type": "stream",
     "text": [
      "/home/wesley/.local/lib/python3.10/site-packages/prefect/tasks.py:356: UserWarning: A task named 'save_data' and defined at '/tmp/ipykernel_82288/3211018998.py:1' conflicts with another task. Consider specifying a unique `name` parameter in the task definition:\n",
      "\n",
      " `@task(name='my_unique_name', ...)`\n",
      "  warnings.warn(\n"
     ]
    }
   ],
   "source": [
    "@task\n",
    "def save_data(stock_df):\n",
    "    stock_df.to_parquet()"
   ]
  },
  {
   "cell_type": "code",
   "execution_count": 17,
   "id": "c1a7c8db-34b5-4016-842f-99a322c87d2c",
   "metadata": {},
   "outputs": [
    {
     "name": "stderr",
     "output_type": "stream",
     "text": [
      "/home/wesley/.local/lib/python3.10/site-packages/prefect/flows.py:357: UserWarning: A flow named 'pipeline' and defined at '/tmp/ipykernel_82288/3500445403.py:1' conflicts with another flow. Consider specifying a unique `name` parameter in the flow definition:\n",
      "\n",
      " `@flow(name='my_unique_name', ...)`\n",
      "  warnings.warn(\n"
     ]
    }
   ],
   "source": [
    "@flow\n",
    "def pipeline(ticker):\n",
    "    df = fetch_data(ticker)\n",
    "    save_data(df)"
   ]
  },
  {
   "cell_type": "code",
   "execution_count": 18,
   "id": "b2d421a6-baba-4d25-b03b-9357cac19890",
   "metadata": {},
   "outputs": [
    {
     "data": {
      "text/html": [
       "<pre style=\"white-space:pre;overflow-x:auto;line-height:normal;font-family:Menlo,'DejaVu Sans Mono',consolas,'Courier New',monospace\">19:52:51.422 | <span style=\"color: #008080; text-decoration-color: #008080\">INFO</span>    | prefect.engine - Created flow run<span style=\"color: #800080; text-decoration-color: #800080\"> 'big-capybara'</span> for flow<span style=\"color: #800080; text-decoration-color: #800080; font-weight: bold\"> 'pipeline'</span>\n",
       "</pre>\n"
      ],
      "text/plain": [
       "19:52:51.422 | \u001b[36mINFO\u001b[0m    | prefect.engine - Created flow run\u001b[35m 'big-capybara'\u001b[0m for flow\u001b[1;35m 'pipeline'\u001b[0m\n"
      ]
     },
     "metadata": {},
     "output_type": "display_data"
    },
    {
     "data": {
      "text/html": [
       "<pre style=\"white-space:pre;overflow-x:auto;line-height:normal;font-family:Menlo,'DejaVu Sans Mono',consolas,'Courier New',monospace\">19:52:51.431 | <span style=\"color: #008080; text-decoration-color: #008080\">INFO</span>    | Flow run<span style=\"color: #800080; text-decoration-color: #800080\"> 'big-capybara'</span> - View at <span style=\"color: #0000ff; text-decoration-color: #0000ff\">https://app.prefect.cloud/account/a2f892c4-4a38-419d-a9e1-2f1c589b6a49/workspace/29760a3e-d175-4bb2-ba3a-056bd84362e4/flow-runs/flow-run/07e2aa3a-1f1d-4086-a68c-75a38832570a</span>\n",
       "</pre>\n"
      ],
      "text/plain": [
       "19:52:51.431 | \u001b[36mINFO\u001b[0m    | Flow run\u001b[35m 'big-capybara'\u001b[0m - View at \u001b[94mhttps://app.prefect.cloud/account/a2f892c4-4a38-419d-a9e1-2f1c589b6a49/workspace/29760a3e-d175-4bb2-ba3a-056bd84362e4/flow-runs/flow-run/07e2aa3a-1f1d-4086-a68c-75a38832570a\u001b[0m\n"
      ]
     },
     "metadata": {},
     "output_type": "display_data"
    },
    {
     "data": {
      "text/html": [
       "<pre style=\"white-space:pre;overflow-x:auto;line-height:normal;font-family:Menlo,'DejaVu Sans Mono',consolas,'Courier New',monospace\">19:52:52.162 | <span style=\"color: #008080; text-decoration-color: #008080\">INFO</span>    | Flow run<span style=\"color: #800080; text-decoration-color: #800080\"> 'big-capybara'</span> - Created task run 'fetch_data-0' for task 'fetch_data'\n",
       "</pre>\n"
      ],
      "text/plain": [
       "19:52:52.162 | \u001b[36mINFO\u001b[0m    | Flow run\u001b[35m 'big-capybara'\u001b[0m - Created task run 'fetch_data-0' for task 'fetch_data'\n"
      ]
     },
     "metadata": {},
     "output_type": "display_data"
    },
    {
     "data": {
      "text/html": [
       "<pre style=\"white-space:pre;overflow-x:auto;line-height:normal;font-family:Menlo,'DejaVu Sans Mono',consolas,'Courier New',monospace\">19:52:52.175 | <span style=\"color: #008080; text-decoration-color: #008080\">INFO</span>    | Flow run<span style=\"color: #800080; text-decoration-color: #800080\"> 'big-capybara'</span> - Executing 'fetch_data-0' immediately...\n",
       "</pre>\n"
      ],
      "text/plain": [
       "19:52:52.175 | \u001b[36mINFO\u001b[0m    | Flow run\u001b[35m 'big-capybara'\u001b[0m - Executing 'fetch_data-0' immediately...\n"
      ]
     },
     "metadata": {},
     "output_type": "display_data"
    },
    {
     "name": "stderr",
     "output_type": "stream",
     "text": [
      "[*********************100%%**********************]  1 of 1 completed\n"
     ]
    },
    {
     "data": {
      "text/html": [
       "<pre style=\"white-space:pre;overflow-x:auto;line-height:normal;font-family:Menlo,'DejaVu Sans Mono',consolas,'Courier New',monospace\">19:52:53.767 | <span style=\"color: #d70000; text-decoration-color: #d70000\">ERROR</span>   | yfinance - \n",
       "1 <span style=\"color: #d70000; text-decoration-color: #d70000\">Failed</span> download:\n",
       "</pre>\n"
      ],
      "text/plain": [
       "19:52:53.767 | \u001b[38;5;160mERROR\u001b[0m   | yfinance - \n",
       "1 \u001b[38;5;160mFailed\u001b[0m download:\n"
      ]
     },
     "metadata": {},
     "output_type": "display_data"
    },
    {
     "data": {
      "text/html": [
       "<pre style=\"white-space:pre;overflow-x:auto;line-height:normal;font-family:Menlo,'DejaVu Sans Mono',consolas,'Courier New',monospace\">19:52:53.771 | <span style=\"color: #d70000; text-decoration-color: #d70000\">ERROR</span>   | yfinance - ['APPL']: Exception('%ticker%: No price data found, symbol may be delisted (1d 1925-05-28 -&gt; 2024-05-04)')\n",
       "</pre>\n"
      ],
      "text/plain": [
       "19:52:53.771 | \u001b[38;5;160mERROR\u001b[0m   | yfinance - ['APPL']: Exception('%ticker%: No price data found, symbol may be delisted (1d 1925-05-28 -> 2024-05-04)')\n"
      ]
     },
     "metadata": {},
     "output_type": "display_data"
    },
    {
     "data": {
      "text/html": [
       "<pre style=\"white-space:pre;overflow-x:auto;line-height:normal;font-family:Menlo,'DejaVu Sans Mono',consolas,'Courier New',monospace\">19:52:54.007 | <span style=\"color: #008080; text-decoration-color: #008080\">INFO</span>    | Task run 'fetch_data-0' - Finished in state <span style=\"color: #008000; text-decoration-color: #008000\">Completed</span>()\n",
       "</pre>\n"
      ],
      "text/plain": [
       "19:52:54.007 | \u001b[36mINFO\u001b[0m    | Task run 'fetch_data-0' - Finished in state \u001b[32mCompleted\u001b[0m()\n"
      ]
     },
     "metadata": {},
     "output_type": "display_data"
    },
    {
     "data": {
      "text/html": [
       "<pre style=\"white-space:pre;overflow-x:auto;line-height:normal;font-family:Menlo,'DejaVu Sans Mono',consolas,'Courier New',monospace\">19:52:54.336 | <span style=\"color: #008080; text-decoration-color: #008080\">INFO</span>    | Flow run<span style=\"color: #800080; text-decoration-color: #800080\"> 'big-capybara'</span> - Created task run 'save_data-0' for task 'save_data'\n",
       "</pre>\n"
      ],
      "text/plain": [
       "19:52:54.336 | \u001b[36mINFO\u001b[0m    | Flow run\u001b[35m 'big-capybara'\u001b[0m - Created task run 'save_data-0' for task 'save_data'\n"
      ]
     },
     "metadata": {},
     "output_type": "display_data"
    },
    {
     "data": {
      "text/html": [
       "<pre style=\"white-space:pre;overflow-x:auto;line-height:normal;font-family:Menlo,'DejaVu Sans Mono',consolas,'Courier New',monospace\">19:52:54.339 | <span style=\"color: #008080; text-decoration-color: #008080\">INFO</span>    | Flow run<span style=\"color: #800080; text-decoration-color: #800080\"> 'big-capybara'</span> - Executing 'save_data-0' immediately...\n",
       "</pre>\n"
      ],
      "text/plain": [
       "19:52:54.339 | \u001b[36mINFO\u001b[0m    | Flow run\u001b[35m 'big-capybara'\u001b[0m - Executing 'save_data-0' immediately...\n"
      ]
     },
     "metadata": {},
     "output_type": "display_data"
    },
    {
     "data": {
      "text/html": [
       "<pre style=\"white-space:pre;overflow-x:auto;line-height:normal;font-family:Menlo,'DejaVu Sans Mono',consolas,'Courier New',monospace\">19:52:55.132 | <span style=\"color: #008080; text-decoration-color: #008080\">INFO</span>    | Task run 'save_data-0' - Finished in state <span style=\"color: #008000; text-decoration-color: #008000\">Completed</span>()\n",
       "</pre>\n"
      ],
      "text/plain": [
       "19:52:55.132 | \u001b[36mINFO\u001b[0m    | Task run 'save_data-0' - Finished in state \u001b[32mCompleted\u001b[0m()\n"
      ]
     },
     "metadata": {},
     "output_type": "display_data"
    },
    {
     "data": {
      "text/html": [
       "<pre style=\"white-space:pre;overflow-x:auto;line-height:normal;font-family:Menlo,'DejaVu Sans Mono',consolas,'Courier New',monospace\">19:52:55.482 | <span style=\"color: #008080; text-decoration-color: #008080\">INFO</span>    | Flow run<span style=\"color: #800080; text-decoration-color: #800080\"> 'big-capybara'</span> - Finished in state <span style=\"color: #008000; text-decoration-color: #008000\">Completed</span>('All states completed.')\n",
       "</pre>\n"
      ],
      "text/plain": [
       "19:52:55.482 | \u001b[36mINFO\u001b[0m    | Flow run\u001b[35m 'big-capybara'\u001b[0m - Finished in state \u001b[32mCompleted\u001b[0m('All states completed.')\n"
      ]
     },
     "metadata": {},
     "output_type": "display_data"
    }
   ],
   "source": [
    "if __name__ == '__main__':\n",
    "    pipeline(ticker=\"AAPL\")"
   ]
  },
  {
   "cell_type": "code",
   "execution_count": null,
   "id": "318a3bf8-291a-43ab-98ba-64f6db7d9eb0",
   "metadata": {},
   "outputs": [],
   "source": []
  }
 ],
 "metadata": {
  "kernelspec": {
   "display_name": "Python 3 (ipykernel)",
   "language": "python",
   "name": "python3"
  },
  "language_info": {
   "codemirror_mode": {
    "name": "ipython",
    "version": 3
   },
   "file_extension": ".py",
   "mimetype": "text/x-python",
   "name": "python",
   "nbconvert_exporter": "python",
   "pygments_lexer": "ipython3",
   "version": "3.10.12"
  }
 },
 "nbformat": 4,
 "nbformat_minor": 5
}
