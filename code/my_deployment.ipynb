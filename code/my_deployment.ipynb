{
 "cells": [
  {
   "cell_type": "code",
   "execution_count": 4,
   "id": "ee71291d-56c5-4c69-aac7-f35beebd8289",
   "metadata": {},
   "outputs": [],
   "source": [
    "from demo import pipeline\n",
    "from prefect.deployments import Deployment"
   ]
  },
  {
   "cell_type": "code",
   "execution_count": 5,
   "id": "ae6d2aaf-ba21-4d89-96cd-9c73e04ed610",
   "metadata": {},
   "outputs": [],
   "source": [
    "deployment = Deployment.build_from_flow(\n",
    "    flow=pipeline,\n",
    "    name=\"Python Deployment Example\"\n",
    ")"
   ]
  },
  {
   "cell_type": "code",
   "execution_count": null,
   "id": "0fea6e75-bbfa-465a-a7ab-b7c4d7bfc5f2",
   "metadata": {},
   "outputs": [],
   "source": [
    "if __name__ == \"__main__\":\n",
    "    deployment.apply()"
   ]
  }
 ],
 "metadata": {
  "kernelspec": {
   "display_name": "Python 3 (ipykernel)",
   "language": "python",
   "name": "python3"
  },
  "language_info": {
   "codemirror_mode": {
    "name": "ipython",
    "version": 3
   },
   "file_extension": ".py",
   "mimetype": "text/x-python",
   "name": "python",
   "nbconvert_exporter": "python",
   "pygments_lexer": "ipython3",
   "version": "3.10.12"
  }
 },
 "nbformat": 4,
 "nbformat_minor": 5
}
