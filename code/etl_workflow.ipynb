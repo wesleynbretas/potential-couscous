{
 "cells": [
  {
   "cell_type": "code",
   "execution_count": 21,
   "id": "ff311964-eb9a-4b70-a56e-57989dfb3985",
   "metadata": {},
   "outputs": [],
   "source": [
    "from prefect import task, flow\n",
    "from etl import extract_data, transform_data, load_data"
   ]
  },
  {
   "cell_type": "code",
   "execution_count": 22,
   "id": "04a6e8ad-4251-4f5d-b178-c636a85d2a5e",
   "metadata": {},
   "outputs": [
    {
     "name": "stderr",
     "output_type": "stream",
     "text": [
      "/home/wesley/.local/lib/python3.10/site-packages/prefect/tasks.py:356: UserWarning: A task named 'extract_data_task' and defined at '/tmp/ipykernel_75466/1884349801.py:1' conflicts with another task. Consider specifying a unique `name` parameter in the task definition:\n",
      "\n",
      " `@task(name='my_unique_name', ...)`\n",
      "  warnings.warn(\n"
     ]
    }
   ],
   "source": [
    "@task(name=\"extract_data_task\")\n",
    "def extract_data_task():\n",
    "    return extract_data()"
   ]
  },
  {
   "cell_type": "code",
   "execution_count": 23,
   "id": "9daf1e01-b201-466d-b48e-56765281c7a5",
   "metadata": {},
   "outputs": [
    {
     "name": "stderr",
     "output_type": "stream",
     "text": [
      "/home/wesley/.local/lib/python3.10/site-packages/prefect/tasks.py:356: UserWarning: A task named 'transform_data_task' and defined at '/tmp/ipykernel_75466/1836189088.py:1' conflicts with another task. Consider specifying a unique `name` parameter in the task definition:\n",
      "\n",
      " `@task(name='my_unique_name', ...)`\n",
      "  warnings.warn(\n"
     ]
    }
   ],
   "source": [
    "@task(name=\"transform_data_task\")\n",
    "def transform_data_task(data):\n",
    "    return transform_data(data)"
   ]
  },
  {
   "cell_type": "code",
   "execution_count": 24,
   "id": "627ffe49-87bb-4d18-8c57-17d7b6ed11bd",
   "metadata": {},
   "outputs": [
    {
     "name": "stderr",
     "output_type": "stream",
     "text": [
      "/home/wesley/.local/lib/python3.10/site-packages/prefect/tasks.py:356: UserWarning: A task named 'load_data_task' and defined at '/tmp/ipykernel_75466/3164569362.py:1' conflicts with another task. Consider specifying a unique `name` parameter in the task definition:\n",
      "\n",
      " `@task(name='my_unique_name', ...)`\n",
      "  warnings.warn(\n"
     ]
    }
   ],
   "source": [
    "@task(name=\"load_data_task\")\n",
    "def load_data_task(transformed_data):\n",
    "    return load_data(transformed_data)"
   ]
  },
  {
   "cell_type": "code",
   "execution_count": 25,
   "id": "55d2a884-8af1-4d48-8bd0-a8a7f33ee341",
   "metadata": {},
   "outputs": [
    {
     "name": "stderr",
     "output_type": "stream",
     "text": [
      "/home/wesley/.local/lib/python3.10/site-packages/prefect/flows.py:357: UserWarning: A flow named 'etl_workflow' and defined at '/tmp/ipykernel_75466/2323013603.py:1' conflicts with another flow. Consider specifying a unique `name` parameter in the flow definition:\n",
      "\n",
      " `@flow(name='my_unique_name', ...)`\n",
      "  warnings.warn(\n"
     ]
    }
   ],
   "source": [
    "@flow(name=\"etl_workflow\")\n",
    "def etl_workflow():\n",
    "    extracted_data = extract_data_task()\n",
    "    transformed_data = transform_data_task(extracted_data)\n",
    "    load_data_task(transformed_data)"
   ]
  },
  {
   "cell_type": "code",
   "execution_count": 26,
   "id": "639f55c1-0b6e-4af8-b7a1-1ba095116d7c",
   "metadata": {},
   "outputs": [
    {
     "data": {
      "text/html": [
       "<pre style=\"white-space:pre;overflow-x:auto;line-height:normal;font-family:Menlo,'DejaVu Sans Mono',consolas,'Courier New',monospace\">09:54:22.338 | <span style=\"color: #008080; text-decoration-color: #008080\">INFO</span>    | prefect.engine - Created flow run<span style=\"color: #800080; text-decoration-color: #800080\"> 'bipedal-crane'</span> for flow<span style=\"color: #800080; text-decoration-color: #800080; font-weight: bold\"> 'etl_workflow'</span>\n",
       "</pre>\n"
      ],
      "text/plain": [
       "09:54:22.338 | \u001b[36mINFO\u001b[0m    | prefect.engine - Created flow run\u001b[35m 'bipedal-crane'\u001b[0m for flow\u001b[1;35m 'etl_workflow'\u001b[0m\n"
      ]
     },
     "metadata": {},
     "output_type": "display_data"
    },
    {
     "data": {
      "text/html": [
       "<pre style=\"white-space:pre;overflow-x:auto;line-height:normal;font-family:Menlo,'DejaVu Sans Mono',consolas,'Courier New',monospace\">09:54:22.475 | <span style=\"color: #008080; text-decoration-color: #008080\">INFO</span>    | Flow run<span style=\"color: #800080; text-decoration-color: #800080\"> 'bipedal-crane'</span> - Created task run 'extract_data_task-0' for task 'extract_data_task'\n",
       "</pre>\n"
      ],
      "text/plain": [
       "09:54:22.475 | \u001b[36mINFO\u001b[0m    | Flow run\u001b[35m 'bipedal-crane'\u001b[0m - Created task run 'extract_data_task-0' for task 'extract_data_task'\n"
      ]
     },
     "metadata": {},
     "output_type": "display_data"
    },
    {
     "data": {
      "text/html": [
       "<pre style=\"white-space:pre;overflow-x:auto;line-height:normal;font-family:Menlo,'DejaVu Sans Mono',consolas,'Courier New',monospace\">09:54:22.478 | <span style=\"color: #008080; text-decoration-color: #008080\">INFO</span>    | Flow run<span style=\"color: #800080; text-decoration-color: #800080\"> 'bipedal-crane'</span> - Executing 'extract_data_task-0' immediately...\n",
       "</pre>\n"
      ],
      "text/plain": [
       "09:54:22.478 | \u001b[36mINFO\u001b[0m    | Flow run\u001b[35m 'bipedal-crane'\u001b[0m - Executing 'extract_data_task-0' immediately...\n"
      ]
     },
     "metadata": {},
     "output_type": "display_data"
    },
    {
     "data": {
      "text/html": [
       "<pre style=\"white-space:pre;overflow-x:auto;line-height:normal;font-family:Menlo,'DejaVu Sans Mono',consolas,'Courier New',monospace\">09:54:22.625 | <span style=\"color: #008080; text-decoration-color: #008080\">INFO</span>    | Task run 'extract_data_task-0' - Finished in state <span style=\"color: #008000; text-decoration-color: #008000\">Completed</span>()\n",
       "</pre>\n"
      ],
      "text/plain": [
       "09:54:22.625 | \u001b[36mINFO\u001b[0m    | Task run 'extract_data_task-0' - Finished in state \u001b[32mCompleted\u001b[0m()\n"
      ]
     },
     "metadata": {},
     "output_type": "display_data"
    },
    {
     "data": {
      "text/html": [
       "<pre style=\"white-space:pre;overflow-x:auto;line-height:normal;font-family:Menlo,'DejaVu Sans Mono',consolas,'Courier New',monospace\">09:54:22.679 | <span style=\"color: #008080; text-decoration-color: #008080\">INFO</span>    | Flow run<span style=\"color: #800080; text-decoration-color: #800080\"> 'bipedal-crane'</span> - Created task run 'transform_data_task-0' for task 'transform_data_task'\n",
       "</pre>\n"
      ],
      "text/plain": [
       "09:54:22.679 | \u001b[36mINFO\u001b[0m    | Flow run\u001b[35m 'bipedal-crane'\u001b[0m - Created task run 'transform_data_task-0' for task 'transform_data_task'\n"
      ]
     },
     "metadata": {},
     "output_type": "display_data"
    },
    {
     "data": {
      "text/html": [
       "<pre style=\"white-space:pre;overflow-x:auto;line-height:normal;font-family:Menlo,'DejaVu Sans Mono',consolas,'Courier New',monospace\">09:54:22.682 | <span style=\"color: #008080; text-decoration-color: #008080\">INFO</span>    | Flow run<span style=\"color: #800080; text-decoration-color: #800080\"> 'bipedal-crane'</span> - Executing 'transform_data_task-0' immediately...\n",
       "</pre>\n"
      ],
      "text/plain": [
       "09:54:22.682 | \u001b[36mINFO\u001b[0m    | Flow run\u001b[35m 'bipedal-crane'\u001b[0m - Executing 'transform_data_task-0' immediately...\n"
      ]
     },
     "metadata": {},
     "output_type": "display_data"
    },
    {
     "data": {
      "text/html": [
       "<pre style=\"white-space:pre;overflow-x:auto;line-height:normal;font-family:Menlo,'DejaVu Sans Mono',consolas,'Courier New',monospace\">09:54:22.816 | <span style=\"color: #008080; text-decoration-color: #008080\">INFO</span>    | Task run 'transform_data_task-0' - Finished in state <span style=\"color: #008000; text-decoration-color: #008000\">Completed</span>()\n",
       "</pre>\n"
      ],
      "text/plain": [
       "09:54:22.816 | \u001b[36mINFO\u001b[0m    | Task run 'transform_data_task-0' - Finished in state \u001b[32mCompleted\u001b[0m()\n"
      ]
     },
     "metadata": {},
     "output_type": "display_data"
    },
    {
     "data": {
      "text/html": [
       "<pre style=\"white-space:pre;overflow-x:auto;line-height:normal;font-family:Menlo,'DejaVu Sans Mono',consolas,'Courier New',monospace\">09:54:22.866 | <span style=\"color: #008080; text-decoration-color: #008080\">INFO</span>    | Flow run<span style=\"color: #800080; text-decoration-color: #800080\"> 'bipedal-crane'</span> - Created task run 'load_data_task-0' for task 'load_data_task'\n",
       "</pre>\n"
      ],
      "text/plain": [
       "09:54:22.866 | \u001b[36mINFO\u001b[0m    | Flow run\u001b[35m 'bipedal-crane'\u001b[0m - Created task run 'load_data_task-0' for task 'load_data_task'\n"
      ]
     },
     "metadata": {},
     "output_type": "display_data"
    },
    {
     "data": {
      "text/html": [
       "<pre style=\"white-space:pre;overflow-x:auto;line-height:normal;font-family:Menlo,'DejaVu Sans Mono',consolas,'Courier New',monospace\">09:54:22.870 | <span style=\"color: #008080; text-decoration-color: #008080\">INFO</span>    | Flow run<span style=\"color: #800080; text-decoration-color: #800080\"> 'bipedal-crane'</span> - Executing 'load_data_task-0' immediately...\n",
       "</pre>\n"
      ],
      "text/plain": [
       "09:54:22.870 | \u001b[36mINFO\u001b[0m    | Flow run\u001b[35m 'bipedal-crane'\u001b[0m - Executing 'load_data_task-0' immediately...\n"
      ]
     },
     "metadata": {},
     "output_type": "display_data"
    },
    {
     "data": {
      "text/html": [
       "<pre style=\"white-space:pre;overflow-x:auto;line-height:normal;font-family:Menlo,'DejaVu Sans Mono',consolas,'Courier New',monospace\">09:54:23.002 | <span style=\"color: #008080; text-decoration-color: #008080\">INFO</span>    | Task run 'load_data_task-0' - Finished in state <span style=\"color: #008000; text-decoration-color: #008000\">Completed</span>()\n",
       "</pre>\n"
      ],
      "text/plain": [
       "09:54:23.002 | \u001b[36mINFO\u001b[0m    | Task run 'load_data_task-0' - Finished in state \u001b[32mCompleted\u001b[0m()\n"
      ]
     },
     "metadata": {},
     "output_type": "display_data"
    },
    {
     "data": {
      "text/html": [
       "<pre style=\"white-space:pre;overflow-x:auto;line-height:normal;font-family:Menlo,'DejaVu Sans Mono',consolas,'Courier New',monospace\">09:54:23.063 | <span style=\"color: #008080; text-decoration-color: #008080\">INFO</span>    | Flow run<span style=\"color: #800080; text-decoration-color: #800080\"> 'bipedal-crane'</span> - Finished in state <span style=\"color: #008000; text-decoration-color: #008000\">Completed</span>('All states completed.')\n",
       "</pre>\n"
      ],
      "text/plain": [
       "09:54:23.063 | \u001b[36mINFO\u001b[0m    | Flow run\u001b[35m 'bipedal-crane'\u001b[0m - Finished in state \u001b[32mCompleted\u001b[0m('All states completed.')\n"
      ]
     },
     "metadata": {},
     "output_type": "display_data"
    }
   ],
   "source": [
    "if __name__ == \"__main__\":\n",
    "    etl_workflow()"
   ]
  },
  {
   "cell_type": "code",
   "execution_count": null,
   "id": "86868cf0-a404-4b94-a092-f022b7addc32",
   "metadata": {},
   "outputs": [],
   "source": []
  }
 ],
 "metadata": {
  "kernelspec": {
   "display_name": "Python 3 (ipykernel)",
   "language": "python",
   "name": "python3"
  },
  "language_info": {
   "codemirror_mode": {
    "name": "ipython",
    "version": 3
   },
   "file_extension": ".py",
   "mimetype": "text/x-python",
   "name": "python",
   "nbconvert_exporter": "python",
   "pygments_lexer": "ipython3",
   "version": "3.10.12"
  }
 },
 "nbformat": 4,
 "nbformat_minor": 5
}
